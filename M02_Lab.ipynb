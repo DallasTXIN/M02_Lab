{
 "cells": [
  {
   "cell_type": "code",
   "execution_count": 1,
   "id": "2ec20178",
   "metadata": {},
   "outputs": [
    {
     "name": "stdout",
     "output_type": "stream",
     "text": [
      "Please put in the student's last name: Lawson\n",
      "Please put in the student's first name: Dallas\n",
      "Please put in GPA: 3.65\n",
      "This student has made it to the Dean's list.\n"
     ]
    }
   ],
   "source": [
    "#Dallas Lawson\n",
    "#If, Else, And While\n",
    "#This code will let the inputee put in the first and last names of the student, along with their GPA.\n",
    "#If high enough, the inputee will be told if said student belongs in the Honor Roll or the Dean's list.\n",
    "#studentlastname is for the student's last name.\n",
    "#studentfirstname is for the student's first name.\n",
    "#gpa is for the student's GPA.\n",
    "\n",
    "#This took me way too long to do since I wasn't able to figure out the GPA code for quite a bit of time.\n",
    "#Turns out I had to do a float input and not an int input, a float int input, or an int float input.\n",
    "studentlastname = input(\"Please put in the student's last name: \")\n",
    "if studentlastname == 'ZZZ':\n",
    "    quit() #I got confused for a second and thought break would work, but that only works for a while loop.\n",
    "studentfirstname = input(\"Please put in the student's first name: \")\n",
    "gpa = float(input(\"Please put in GPA: \")) #This line was the hardest line I had.\n",
    "if gpa > 3.5:\n",
    "    print(\"This student has made it to the Dean's list.\")\n",
    "elif gpa > 3.25:\n",
    "    print(\"This student has made it to Honor Roll.\")\n",
    "else:\n",
    "    print(\"This student doesn't qualify for the Dean's list or Honor Roll.\") #I know this line isn't needed, but I figured I would tell the inputee if the student doesn't qualify for the Dean's list or Honor Roll."
   ]
  }
 ],
 "metadata": {
  "kernelspec": {
   "display_name": "Python 3 (ipykernel)",
   "language": "python",
   "name": "python3"
  },
  "language_info": {
   "codemirror_mode": {
    "name": "ipython",
    "version": 3
   },
   "file_extension": ".py",
   "mimetype": "text/x-python",
   "name": "python",
   "nbconvert_exporter": "python",
   "pygments_lexer": "ipython3",
   "version": "3.9.13"
  }
 },
 "nbformat": 4,
 "nbformat_minor": 5
}
